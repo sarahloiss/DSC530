{
 "cells": [
  {
   "cell_type": "markdown",
   "metadata": {
    "id": "whbiHgkfGmPu"
   },
   "source": [
    "# DSC530 Final - Wine Quality"
   ]
  },
  {
   "cell_type": "markdown",
   "metadata": {
    "id": "pN152pOS4DuV"
   },
   "source": [
    "Dataset: https://archive.ics.uci.edu/ml/machine-learning-databases/wine-quality/"
   ]
  },
  {
   "cell_type": "markdown",
   "metadata": {
    "id": "Lpr6BnzqIWrk"
   },
   "source": [
    "Question: what impacts wine quality?\n",
    "\n",
    "My features of interest: \n",
    "* pH\n",
    "* sulphates\n",
    "* alcohol\n",
    "* residual sugar\n",
    "* fixed acidity"
   ]
  },
  {
   "cell_type": "markdown",
   "metadata": {
    "id": "UwLb-zN9Gzhe"
   },
   "source": [
    "### Load data"
   ]
  },
  {
   "cell_type": "code",
   "execution_count": null,
   "metadata": {
    "id": "K3RZNHB18HOm"
   },
   "outputs": [],
   "source": [
    "import numpy as np \n",
    "import pandas as pd \n",
    "import seaborn as sns\n",
    "import plotly.express as px\n",
    "import matplotlib.pyplot as plt\n",
    "\n",
    "sns.set_style('darkgrid')"
   ]
  },
  {
   "cell_type": "code",
   "execution_count": null,
   "metadata": {
    "id": "nCXJICSARdst"
   },
   "outputs": [],
   "source": [
    "wine_quality = pd.read_csv('winequality-red.csv', delimiter=';')"
   ]
  },
  {
   "cell_type": "code",
   "execution_count": null,
   "metadata": {
    "colab": {
     "base_uri": "https://localhost:8080/",
     "height": 522
    },
    "id": "5iZARRY882fc",
    "outputId": "34c0ba87-f48b-4659-e90c-126bad91c6ed"
   },
   "outputs": [
    {
     "data": {
      "text/html": [
       "\n",
       "  <div id=\"df-315e1616-6704-4173-b169-8e1f307ef1b1\">\n",
       "    <div class=\"colab-df-container\">\n",
       "      <div>\n",
       "<style scoped>\n",
       "    .dataframe tbody tr th:only-of-type {\n",
       "        vertical-align: middle;\n",
       "    }\n",
       "\n",
       "    .dataframe tbody tr th {\n",
       "        vertical-align: top;\n",
       "    }\n",
       "\n",
       "    .dataframe thead th {\n",
       "        text-align: right;\n",
       "    }\n",
       "</style>\n",
       "<table border=\"1\" class=\"dataframe\">\n",
       "  <thead>\n",
       "    <tr style=\"text-align: right;\">\n",
       "      <th></th>\n",
       "      <th>fixed acidity</th>\n",
       "      <th>volatile acidity</th>\n",
       "      <th>citric acid</th>\n",
       "      <th>residual sugar</th>\n",
       "      <th>chlorides</th>\n",
       "      <th>free sulfur dioxide</th>\n",
       "      <th>total sulfur dioxide</th>\n",
       "      <th>density</th>\n",
       "      <th>pH</th>\n",
       "      <th>sulphates</th>\n",
       "      <th>alcohol</th>\n",
       "      <th>quality</th>\n",
       "    </tr>\n",
       "  </thead>\n",
       "  <tbody>\n",
       "    <tr>\n",
       "      <th>0</th>\n",
       "      <td>7.4</td>\n",
       "      <td>0.700</td>\n",
       "      <td>0.00</td>\n",
       "      <td>1.9</td>\n",
       "      <td>0.076</td>\n",
       "      <td>11.0</td>\n",
       "      <td>34.0</td>\n",
       "      <td>0.99780</td>\n",
       "      <td>3.51</td>\n",
       "      <td>0.56</td>\n",
       "      <td>9.4</td>\n",
       "      <td>5</td>\n",
       "    </tr>\n",
       "    <tr>\n",
       "      <th>1</th>\n",
       "      <td>7.8</td>\n",
       "      <td>0.880</td>\n",
       "      <td>0.00</td>\n",
       "      <td>2.6</td>\n",
       "      <td>0.098</td>\n",
       "      <td>25.0</td>\n",
       "      <td>67.0</td>\n",
       "      <td>0.99680</td>\n",
       "      <td>3.20</td>\n",
       "      <td>0.68</td>\n",
       "      <td>9.8</td>\n",
       "      <td>5</td>\n",
       "    </tr>\n",
       "    <tr>\n",
       "      <th>2</th>\n",
       "      <td>7.8</td>\n",
       "      <td>0.760</td>\n",
       "      <td>0.04</td>\n",
       "      <td>2.3</td>\n",
       "      <td>0.092</td>\n",
       "      <td>15.0</td>\n",
       "      <td>54.0</td>\n",
       "      <td>0.99700</td>\n",
       "      <td>3.26</td>\n",
       "      <td>0.65</td>\n",
       "      <td>9.8</td>\n",
       "      <td>5</td>\n",
       "    </tr>\n",
       "    <tr>\n",
       "      <th>3</th>\n",
       "      <td>11.2</td>\n",
       "      <td>0.280</td>\n",
       "      <td>0.56</td>\n",
       "      <td>1.9</td>\n",
       "      <td>0.075</td>\n",
       "      <td>17.0</td>\n",
       "      <td>60.0</td>\n",
       "      <td>0.99800</td>\n",
       "      <td>3.16</td>\n",
       "      <td>0.58</td>\n",
       "      <td>9.8</td>\n",
       "      <td>6</td>\n",
       "    </tr>\n",
       "    <tr>\n",
       "      <th>4</th>\n",
       "      <td>7.4</td>\n",
       "      <td>0.700</td>\n",
       "      <td>0.00</td>\n",
       "      <td>1.9</td>\n",
       "      <td>0.076</td>\n",
       "      <td>11.0</td>\n",
       "      <td>34.0</td>\n",
       "      <td>0.99780</td>\n",
       "      <td>3.51</td>\n",
       "      <td>0.56</td>\n",
       "      <td>9.4</td>\n",
       "      <td>5</td>\n",
       "    </tr>\n",
       "    <tr>\n",
       "      <th>...</th>\n",
       "      <td>...</td>\n",
       "      <td>...</td>\n",
       "      <td>...</td>\n",
       "      <td>...</td>\n",
       "      <td>...</td>\n",
       "      <td>...</td>\n",
       "      <td>...</td>\n",
       "      <td>...</td>\n",
       "      <td>...</td>\n",
       "      <td>...</td>\n",
       "      <td>...</td>\n",
       "      <td>...</td>\n",
       "    </tr>\n",
       "    <tr>\n",
       "      <th>1594</th>\n",
       "      <td>6.2</td>\n",
       "      <td>0.600</td>\n",
       "      <td>0.08</td>\n",
       "      <td>2.0</td>\n",
       "      <td>0.090</td>\n",
       "      <td>32.0</td>\n",
       "      <td>44.0</td>\n",
       "      <td>0.99490</td>\n",
       "      <td>3.45</td>\n",
       "      <td>0.58</td>\n",
       "      <td>10.5</td>\n",
       "      <td>5</td>\n",
       "    </tr>\n",
       "    <tr>\n",
       "      <th>1595</th>\n",
       "      <td>5.9</td>\n",
       "      <td>0.550</td>\n",
       "      <td>0.10</td>\n",
       "      <td>2.2</td>\n",
       "      <td>0.062</td>\n",
       "      <td>39.0</td>\n",
       "      <td>51.0</td>\n",
       "      <td>0.99512</td>\n",
       "      <td>3.52</td>\n",
       "      <td>0.76</td>\n",
       "      <td>11.2</td>\n",
       "      <td>6</td>\n",
       "    </tr>\n",
       "    <tr>\n",
       "      <th>1596</th>\n",
       "      <td>6.3</td>\n",
       "      <td>0.510</td>\n",
       "      <td>0.13</td>\n",
       "      <td>2.3</td>\n",
       "      <td>0.076</td>\n",
       "      <td>29.0</td>\n",
       "      <td>40.0</td>\n",
       "      <td>0.99574</td>\n",
       "      <td>3.42</td>\n",
       "      <td>0.75</td>\n",
       "      <td>11.0</td>\n",
       "      <td>6</td>\n",
       "    </tr>\n",
       "    <tr>\n",
       "      <th>1597</th>\n",
       "      <td>5.9</td>\n",
       "      <td>0.645</td>\n",
       "      <td>0.12</td>\n",
       "      <td>2.0</td>\n",
       "      <td>0.075</td>\n",
       "      <td>32.0</td>\n",
       "      <td>44.0</td>\n",
       "      <td>0.99547</td>\n",
       "      <td>3.57</td>\n",
       "      <td>0.71</td>\n",
       "      <td>10.2</td>\n",
       "      <td>5</td>\n",
       "    </tr>\n",
       "    <tr>\n",
       "      <th>1598</th>\n",
       "      <td>6.0</td>\n",
       "      <td>0.310</td>\n",
       "      <td>0.47</td>\n",
       "      <td>3.6</td>\n",
       "      <td>0.067</td>\n",
       "      <td>18.0</td>\n",
       "      <td>42.0</td>\n",
       "      <td>0.99549</td>\n",
       "      <td>3.39</td>\n",
       "      <td>0.66</td>\n",
       "      <td>11.0</td>\n",
       "      <td>6</td>\n",
       "    </tr>\n",
       "  </tbody>\n",
       "</table>\n",
       "<p>1599 rows × 12 columns</p>\n",
       "</div>\n",
       "      <button class=\"colab-df-convert\" onclick=\"convertToInteractive('df-315e1616-6704-4173-b169-8e1f307ef1b1')\"\n",
       "              title=\"Convert this dataframe to an interactive table.\"\n",
       "              style=\"display:none;\">\n",
       "        \n",
       "  <svg xmlns=\"http://www.w3.org/2000/svg\" height=\"24px\"viewBox=\"0 0 24 24\"\n",
       "       width=\"24px\">\n",
       "    <path d=\"M0 0h24v24H0V0z\" fill=\"none\"/>\n",
       "    <path d=\"M18.56 5.44l.94 2.06.94-2.06 2.06-.94-2.06-.94-.94-2.06-.94 2.06-2.06.94zm-11 1L8.5 8.5l.94-2.06 2.06-.94-2.06-.94L8.5 2.5l-.94 2.06-2.06.94zm10 10l.94 2.06.94-2.06 2.06-.94-2.06-.94-.94-2.06-.94 2.06-2.06.94z\"/><path d=\"M17.41 7.96l-1.37-1.37c-.4-.4-.92-.59-1.43-.59-.52 0-1.04.2-1.43.59L10.3 9.45l-7.72 7.72c-.78.78-.78 2.05 0 2.83L4 21.41c.39.39.9.59 1.41.59.51 0 1.02-.2 1.41-.59l7.78-7.78 2.81-2.81c.8-.78.8-2.07 0-2.86zM5.41 20L4 18.59l7.72-7.72 1.47 1.35L5.41 20z\"/>\n",
       "  </svg>\n",
       "      </button>\n",
       "      \n",
       "  <style>\n",
       "    .colab-df-container {\n",
       "      display:flex;\n",
       "      flex-wrap:wrap;\n",
       "      gap: 12px;\n",
       "    }\n",
       "\n",
       "    .colab-df-convert {\n",
       "      background-color: #E8F0FE;\n",
       "      border: none;\n",
       "      border-radius: 50%;\n",
       "      cursor: pointer;\n",
       "      display: none;\n",
       "      fill: #1967D2;\n",
       "      height: 32px;\n",
       "      padding: 0 0 0 0;\n",
       "      width: 32px;\n",
       "    }\n",
       "\n",
       "    .colab-df-convert:hover {\n",
       "      background-color: #E2EBFA;\n",
       "      box-shadow: 0px 1px 2px rgba(60, 64, 67, 0.3), 0px 1px 3px 1px rgba(60, 64, 67, 0.15);\n",
       "      fill: #174EA6;\n",
       "    }\n",
       "\n",
       "    [theme=dark] .colab-df-convert {\n",
       "      background-color: #3B4455;\n",
       "      fill: #D2E3FC;\n",
       "    }\n",
       "\n",
       "    [theme=dark] .colab-df-convert:hover {\n",
       "      background-color: #434B5C;\n",
       "      box-shadow: 0px 1px 3px 1px rgba(0, 0, 0, 0.15);\n",
       "      filter: drop-shadow(0px 1px 2px rgba(0, 0, 0, 0.3));\n",
       "      fill: #FFFFFF;\n",
       "    }\n",
       "  </style>\n",
       "\n",
       "      <script>\n",
       "        const buttonEl =\n",
       "          document.querySelector('#df-315e1616-6704-4173-b169-8e1f307ef1b1 button.colab-df-convert');\n",
       "        buttonEl.style.display =\n",
       "          google.colab.kernel.accessAllowed ? 'block' : 'none';\n",
       "\n",
       "        async function convertToInteractive(key) {\n",
       "          const element = document.querySelector('#df-315e1616-6704-4173-b169-8e1f307ef1b1');\n",
       "          const dataTable =\n",
       "            await google.colab.kernel.invokeFunction('convertToInteractive',\n",
       "                                                     [key], {});\n",
       "          if (!dataTable) return;\n",
       "\n",
       "          const docLinkHtml = 'Like what you see? Visit the ' +\n",
       "            '<a target=\"_blank\" href=https://colab.research.google.com/notebooks/data_table.ipynb>data table notebook</a>'\n",
       "            + ' to learn more about interactive tables.';\n",
       "          element.innerHTML = '';\n",
       "          dataTable['output_type'] = 'display_data';\n",
       "          await google.colab.output.renderOutput(dataTable, element);\n",
       "          const docLink = document.createElement('div');\n",
       "          docLink.innerHTML = docLinkHtml;\n",
       "          element.appendChild(docLink);\n",
       "        }\n",
       "      </script>\n",
       "    </div>\n",
       "  </div>\n",
       "  "
      ],
      "text/plain": [
       "      fixed acidity  volatile acidity  citric acid  residual sugar  chlorides  \\\n",
       "0               7.4             0.700         0.00             1.9      0.076   \n",
       "1               7.8             0.880         0.00             2.6      0.098   \n",
       "2               7.8             0.760         0.04             2.3      0.092   \n",
       "3              11.2             0.280         0.56             1.9      0.075   \n",
       "4               7.4             0.700         0.00             1.9      0.076   \n",
       "...             ...               ...          ...             ...        ...   \n",
       "1594            6.2             0.600         0.08             2.0      0.090   \n",
       "1595            5.9             0.550         0.10             2.2      0.062   \n",
       "1596            6.3             0.510         0.13             2.3      0.076   \n",
       "1597            5.9             0.645         0.12             2.0      0.075   \n",
       "1598            6.0             0.310         0.47             3.6      0.067   \n",
       "\n",
       "      free sulfur dioxide  total sulfur dioxide  density    pH  sulphates  \\\n",
       "0                    11.0                  34.0  0.99780  3.51       0.56   \n",
       "1                    25.0                  67.0  0.99680  3.20       0.68   \n",
       "2                    15.0                  54.0  0.99700  3.26       0.65   \n",
       "3                    17.0                  60.0  0.99800  3.16       0.58   \n",
       "4                    11.0                  34.0  0.99780  3.51       0.56   \n",
       "...                   ...                   ...      ...   ...        ...   \n",
       "1594                 32.0                  44.0  0.99490  3.45       0.58   \n",
       "1595                 39.0                  51.0  0.99512  3.52       0.76   \n",
       "1596                 29.0                  40.0  0.99574  3.42       0.75   \n",
       "1597                 32.0                  44.0  0.99547  3.57       0.71   \n",
       "1598                 18.0                  42.0  0.99549  3.39       0.66   \n",
       "\n",
       "      alcohol  quality  \n",
       "0         9.4        5  \n",
       "1         9.8        5  \n",
       "2         9.8        5  \n",
       "3         9.8        6  \n",
       "4         9.4        5  \n",
       "...       ...      ...  \n",
       "1594     10.5        5  \n",
       "1595     11.2        6  \n",
       "1596     11.0        6  \n",
       "1597     10.2        5  \n",
       "1598     11.0        6  \n",
       "\n",
       "[1599 rows x 12 columns]"
      ]
     },
     "execution_count": 20,
     "metadata": {},
     "output_type": "execute_result"
    }
   ],
   "source": [
    "wine_quality"
   ]
  },
  {
   "cell_type": "markdown",
   "metadata": {
    "id": "WHdLMp0s9c0P"
   },
   "source": [
    "Histogram of wine quality"
   ]
  },
  {
   "cell_type": "code",
   "execution_count": null,
   "metadata": {
    "colab": {
     "base_uri": "https://localhost:8080/",
     "height": 279
    },
    "id": "9BC4oCi18LOF",
    "outputId": "690e8dde-ab2c-43b5-9663-479fd03c0899"
   },
   "outputs": [
    {
     "data": {
      "image/png": "[encoded data removed]",
      "text/plain": [
       "<Figure size 432x288 with 1 Axes>"
      ]
     },
     "metadata": {},
     "output_type": "display_data"
    }
   ],
   "source": [
    "sns.countplot(data=wine_quality,x='quality');"
   ]
  },
  {
   "cell_type": "markdown",
   "metadata": {
    "id": "ZsJSL7JwIyAM"
   },
   "source": [
    "PMF of wine quality"
   ]
  },
  {
   "cell_type": "code",
   "execution_count": null,
   "metadata": {
    "colab": {
     "base_uri": "https://localhost:8080/",
     "height": 279
    },
    "id": "USdN4lsI7TUQ",
    "outputId": "e7a59193-ce92-4f80-e38e-d8ea6f2dc8c5"
   },
   "outputs": [
    {
     "data": {
      "image/png": "[encoded data removed]",
      "text/plain": [
       "<Figure size 432x288 with 1 Axes>"
      ]
     },
     "metadata": {},
     "output_type": "display_data"
    }
   ],
   "source": [
    "sns.histplot(data=wine_quality,x='quality', stat=\"probability\");"
   ]
  },
  {
   "cell_type": "markdown",
   "metadata": {
    "id": "llbPIhlbI1RR"
   },
   "source": [
    "## Histograms and PMFs of 5 variables \n",
    "\n",
    "(pH, sulphates, alcohol, residual sugar, fixed acidity)"
   ]
  },
  {
   "cell_type": "code",
   "execution_count": null,
   "metadata": {
    "colab": {
     "base_uri": "https://localhost:8080/",
     "height": 279
    },
    "id": "1Pcc2n2PNMOo",
    "outputId": "5bb7e7e6-4c04-43ce-dc11-0e4e358c9d09"
   },
   "outputs": [
    {
     "data": {
      "image/png": "[encoded data removed]",
      "text/plain": [
       "<Figure size 432x288 with 1 Axes>"
      ]
     },
     "metadata": {},
     "output_type": "display_data"
    }
   ],
   "source": [
    "sns.histplot(data=wine_quality,x='pH', color='g');"
   ]
  },
  {
   "cell_type": "code",
   "execution_count": null,
   "metadata": {
    "colab": {
     "base_uri": "https://localhost:8080/",
     "height": 282
    },
    "id": "yFcSDtpwAs6S",
    "outputId": "2a02adf7-534f-4c4e-9585-a8c946457fda"
   },
   "outputs": [
    {
     "data": {
      "image/png": "[encoded data removed]",
      "text/plain": [
       "<Figure size 432x288 with 1 Axes>"
      ]
     },
     "metadata": {},
     "output_type": "display_data"
    }
   ],
   "source": [
    "sns.histplot(data=wine_quality,x='pH', stat=\"probability\", color='g');"
   ]
  },
  {
   "cell_type": "code",
   "execution_count": null,
   "metadata": {
    "colab": {
     "base_uri": "https://localhost:8080/",
     "height": 279
    },
    "id": "gNwmyXjTNeH-",
    "outputId": "e22ad540-7b6f-4833-d5ee-3b928cda0a8e"
   },
   "outputs": [
    {
     "data": {
      "image/png": "[encoded data removed]",
      "text/plain": [
       "<Figure size 432x288 with 1 Axes>"
      ]
     },
     "metadata": {},
     "output_type": "display_data"
    }
   ],
   "source": [
    "sns.histplot(data=wine_quality,x='sulphates', stat=\"count\", color='r');"
   ]
  },
  {
   "cell_type": "code",
   "execution_count": null,
   "metadata": {
    "colab": {
     "base_uri": "https://localhost:8080/",
     "height": 279
    },
    "id": "W2IVs9s8JAoE",
    "outputId": "ae8a6be2-883c-4ac3-86a0-c1ed34ac11f8"
   },
   "outputs": [
    {
     "data": {
      "image/png": "[encoded data removed]",
      "text/plain": [
       "<Figure size 432x288 with 1 Axes>"
      ]
     },
     "metadata": {},
     "output_type": "display_data"
    }
   ],
   "source": [
    "sns.histplot(data=wine_quality,x='sulphates', stat=\"probability\", color='r');"
   ]
  },
  {
   "cell_type": "code",
   "execution_count": null,
   "metadata": {
    "colab": {
     "base_uri": "https://localhost:8080/",
     "height": 279
    },
    "id": "9mT1pHH-NiXm",
    "outputId": "a744e559-be8a-4cb9-baba-8d82da057403"
   },
   "outputs": [
    {
     "data": {
      "image/png": "[encoded data removed]",
      "text/plain": [
       "<Figure size 432x288 with 1 Axes>"
      ]
     },
     "metadata": {},
     "output_type": "display_data"
    }
   ],
   "source": [
    "sns.histplot(data=wine_quality,x='alcohol', stat=\"count\", color='y');"
   ]
  },
  {
   "cell_type": "code",
   "execution_count": null,
   "metadata": {
    "colab": {
     "base_uri": "https://localhost:8080/",
     "height": 279
    },
    "id": "L96RsILFJKLd",
    "outputId": "46569a7b-4315-4b46-8f80-0a29b40a833a"
   },
   "outputs": [
    {
     "data": {
      "image/png": "[encoded data removed]",
      "text/plain": [
       "<Figure size 432x288 with 1 Axes>"
      ]
     },
     "metadata": {},
     "output_type": "display_data"
    }
   ],
   "source": [
    "sns.histplot(data=wine_quality,x='alcohol', stat=\"probability\", color='y');"
   ]
  },
  {
   "cell_type": "code",
   "execution_count": null,
   "metadata": {
    "colab": {
     "base_uri": "https://localhost:8080/",
     "height": 279
    },
    "id": "t6G5gvmrNlDm",
    "outputId": "b3711fad-5284-4ef9-ecc8-85698ff27d0f"
   },
   "outputs": [
    {
     "data": {
      "image/png": "[encoded data removed]",
      "text/plain": [
       "<Figure size 432x288 with 1 Axes>"
      ]
     },
     "metadata": {},
     "output_type": "display_data"
    }
   ],
   "source": [
    "sns.histplot(data=wine_quality,x='residual sugar', stat=\"count\", color='b');"
   ]
  },
  {
   "cell_type": "code",
   "execution_count": null,
   "metadata": {
    "colab": {
     "base_uri": "https://localhost:8080/",
     "height": 279
    },
    "id": "qeXh6lolJN6r",
    "outputId": "0f8d48d2-cb0a-40c9-8e59-e00dd92733a0"
   },
   "outputs": [
    {
     "data": {
      "image/png": "[encoded data removed]",
      "text/plain": [
       "<Figure size 432x288 with 1 Axes>"
      ]
     },
     "metadata": {},
     "output_type": "display_data"
    }
   ],
   "source": [
    "sns.histplot(data=wine_quality,x='residual sugar', stat=\"probability\", color='b');"
   ]
  },
  {
   "cell_type": "code",
   "execution_count": null,
   "metadata": {
    "colab": {
     "base_uri": "https://localhost:8080/",
     "height": 279
    },
    "id": "e0sLMNJeNna9",
    "outputId": "86cbe1a9-5336-4037-cb51-7e7d5292c6a7"
   },
   "outputs": [
    {
     "data": {
      "image/png": "[encoded data removed]",
      "text/plain": [
       "<Figure size 432x288 with 1 Axes>"
      ]
     },
     "metadata": {},
     "output_type": "display_data"
    }
   ],
   "source": [
    "sns.histplot(data=wine_quality,x='fixed acidity', stat=\"count\", color='orange');"
   ]
  },
  {
   "cell_type": "code",
   "execution_count": null,
   "metadata": {
    "colab": {
     "base_uri": "https://localhost:8080/",
     "height": 279
    },
    "id": "Oh7P-EJGJTqk",
    "outputId": "a771e1f1-ee33-4f59-ecd5-32f9b70271ee"
   },
   "outputs": [
    {
     "data": {
      "image/png": "[encoded data removed]",
      "text/plain": [
       "<Figure size 432x288 with 1 Axes>"
      ]
     },
     "metadata": {},
     "output_type": "display_data"
    }
   ],
   "source": [
    "sns.histplot(data=wine_quality,x='fixed acidity', stat=\"probability\", color='orange');"
   ]
  },
  {
   "cell_type": "markdown",
   "metadata": {
    "id": "GZZ7Mp9TJm2v"
   },
   "source": []
  },
  {
   "cell_type": "markdown",
   "metadata": {
    "id": "VOuS-x6BJwoe"
   },
   "source": [
    "### Descriptive statistics\n",
    "\n",
    "(Mean, Mode, Spread, Tails)"
   ]
  },
  {
   "cell_type": "code",
   "execution_count": null,
   "metadata": {
    "id": "HGzIaq9SJYaG"
   },
   "outputs": [],
   "source": [
    "def print_descriptive_statistics(var):\n",
    "  print(f'Here is the mean: {var.mean()}')\n",
    "  print(f'Here is the mode: {var.mode()[0]}')\n",
    "  print(f'Here is the spread: {var.var()}') # use variance to describe spread\n",
    "  print(f'Here is the left tail: {var.min()}')\n",
    "  print(f'Here is the right tail: {var.max()}')"
   ]
  },
  {
   "cell_type": "code",
   "execution_count": null,
   "metadata": {
    "colab": {
     "base_uri": "https://localhost:8080/"
    },
    "id": "eDEAVvxbLiFg",
    "outputId": "1697c052-b992-44d2-ef0e-082fddbfdbff"
   },
   "outputs": [
    {
     "name": "stdout",
     "output_type": "stream",
     "text": [
      "Here is the mean: 3.3111131957473416\n",
      "Here is the mode: 3.3\n",
      "Here is the spread: 0.023835180545412844\n",
      "Here is the left tail: 2.74\n",
      "Here is the right tail: 4.01\n"
     ]
    }
   ],
   "source": [
    "print_descriptive_statistics(wine_quality['pH'])"
   ]
  },
  {
   "cell_type": "code",
   "execution_count": null,
   "metadata": {
    "colab": {
     "base_uri": "https://localhost:8080/"
    },
    "id": "yMP2FIfQLl05",
    "outputId": "b0b7bcba-b27f-4300-a943-607d3e26b927"
   },
   "outputs": [
    {
     "name": "stdout",
     "output_type": "stream",
     "text": [
      "Here is the mean: 0.6581488430268917\n",
      "Here is the mode: 0.6\n",
      "Here is the spread: 0.028732616129761954\n",
      "Here is the left tail: 0.33\n",
      "Here is the right tail: 2.0\n"
     ]
    }
   ],
   "source": [
    "print_descriptive_statistics(wine_quality['sulphates'])"
   ]
  },
  {
   "cell_type": "code",
   "execution_count": null,
   "metadata": {
    "colab": {
     "base_uri": "https://localhost:8080/"
    },
    "id": "5FDTQfpKKWCH",
    "outputId": "1c4bbc66-6ec3-4deb-bb68-c89801fc9571"
   },
   "outputs": [
    {
     "name": "stdout",
     "output_type": "stream",
     "text": [
      "Here is the mean: 10.422983114446529\n",
      "Here is the mode: 9.5\n",
      "Here is the spread: 1.1356473950004737\n",
      "Here is the left tail: 8.4\n",
      "Here is the right tail: 14.9\n"
     ]
    }
   ],
   "source": [
    "print_descriptive_statistics(wine_quality['alcohol'])"
   ]
  },
  {
   "cell_type": "code",
   "execution_count": null,
   "metadata": {
    "colab": {
     "base_uri": "https://localhost:8080/"
    },
    "id": "S0okENXVKZON",
    "outputId": "6bead483-d774-458b-aee0-975a579f4287"
   },
   "outputs": [
    {
     "name": "stdout",
     "output_type": "stream",
     "text": [
      "Here is the mean: 2.53880550343965\n",
      "Here is the mode: 2.0\n",
      "Here is the spread: 1.9878971329859634\n",
      "Here is the left tail: 0.9\n",
      "Here is the right tail: 15.5\n"
     ]
    }
   ],
   "source": [
    "print_descriptive_statistics(wine_quality['residual sugar'])"
   ]
  },
  {
   "cell_type": "code",
   "execution_count": null,
   "metadata": {
    "colab": {
     "base_uri": "https://localhost:8080/"
    },
    "id": "x-tMfr7vLqo2",
    "outputId": "550c1e13-809d-4afc-aeeb-45be299b13c7"
   },
   "outputs": [
    {
     "name": "stdout",
     "output_type": "stream",
     "text": [
      "Here is the mean: 8.31963727329581\n",
      "Here is the mode: 7.2\n",
      "Here is the spread: 3.0314163889978167\n",
      "Here is the left tail: 4.6\n",
      "Here is the right tail: 15.9\n"
     ]
    }
   ],
   "source": [
    "print_descriptive_statistics(wine_quality['fixed acidity'])"
   ]
  },
  {
   "cell_type": "markdown",
   "metadata": {
    "id": "8WSfTov3Mo_v"
   },
   "source": [
    "## Compare two scenarios using PMFs"
   ]
  },
  {
   "cell_type": "markdown",
   "metadata": {
    "id": "5sZ47-3GO-Ht"
   },
   "source": [
    "Let's explore that variable 'alcohol' to see how it relates to high wine quality (wine quality > 5) and low wine quality (wine quality <= 5)"
   ]
  },
  {
   "cell_type": "code",
   "execution_count": null,
   "metadata": {
    "id": "1YfEkPCBLsCE"
   },
   "outputs": [],
   "source": [
    "# Split the DataFrame based on the 'wine_quality' column\n",
    "low_quality = wine_quality[wine_quality['quality'] <= 4]\n",
    "high_quality = wine_quality[wine_quality['quality'] > 4]"
   ]
  },
  {
   "cell_type": "code",
   "execution_count": null,
   "metadata": {
    "colab": {
     "base_uri": "https://localhost:8080/"
    },
    "id": "j9EBjmrdRYvc",
    "outputId": "77a573c5-6d10-4c15-d8cf-a3a351101c07"
   },
   "outputs": [
    {
     "data": {
      "text/plain": [
       "<bound method Series.sort_values of 9.60     6\n",
       "11.00    5\n",
       "10.90    4\n",
       "9.80     4\n",
       "10.00    4\n",
       "10.40    3\n",
       "11.20    3\n",
       "9.70     3\n",
       "9.00     3\n",
       "9.20     3\n",
       "11.40    2\n",
       "11.50    2\n",
       "9.40     2\n",
       "9.30     2\n",
       "9.90     2\n",
       "9.10     2\n",
       "10.70    1\n",
       "13.10    1\n",
       "11.30    1\n",
       "10.50    1\n",
       "8.40     1\n",
       "11.80    1\n",
       "12.00    1\n",
       "11.10    1\n",
       "10.20    1\n",
       "10.10    1\n",
       "10.30    1\n",
       "9.95     1\n",
       "9.05     1\n",
       "Name: alcohol, dtype: int64>"
      ]
     },
     "execution_count": 71,
     "metadata": {},
     "output_type": "execute_result"
    }
   ],
   "source": [
    "low_quality.alcohol.value_counts().sort_values"
   ]
  },
  {
   "cell_type": "code",
   "execution_count": null,
   "metadata": {
    "colab": {
     "base_uri": "https://localhost:8080/"
    },
    "id": "dYZ9G-fyS62q",
    "outputId": "99b62bb6-f2a2-42d7-fd68-ff5336dc517a"
   },
   "outputs": [
    {
     "data": {
      "text/plain": [
       "<bound method Series.sort_values of 9.500000     139\n",
       "9.400000     101\n",
       "9.800000      74\n",
       "9.200000      69\n",
       "10.500000     66\n",
       "            ... \n",
       "13.566667      1\n",
       "11.950000      1\n",
       "9.233333       1\n",
       "9.250000       1\n",
       "10.750000      1\n",
       "Name: alcohol, Length: 63, dtype: int64>"
      ]
     },
     "execution_count": 72,
     "metadata": {},
     "output_type": "execute_result"
    }
   ],
   "source": [
    "high_quality.alcohol.value_counts().sort_values"
   ]
  },
  {
   "cell_type": "code",
   "execution_count": null,
   "metadata": {
    "colab": {
     "base_uri": "https://localhost:8080/"
    },
    "id": "tjYPo-86TPXK",
    "outputId": "45374c3f-38ac-48b1-b711-4dd0b38d2854"
   },
   "outputs": [
    {
     "name": "stdout",
     "output_type": "stream",
     "text": [
      "Here is the mean: 10.215873015873019\n",
      "Here is the mode: 9.6\n",
      "Here is the spread: 0.8430504352278546\n",
      "Here is the left tail: 8.4\n",
      "Here is the right tail: 13.1\n"
     ]
    }
   ],
   "source": [
    "print_descriptive_statistics(low_quality.alcohol)"
   ]
  },
  {
   "cell_type": "code",
   "execution_count": null,
   "metadata": {
    "colab": {
     "base_uri": "https://localhost:8080/"
    },
    "id": "rtDdWTIsTGAb",
    "outputId": "61d9a50c-f286-4909-aaee-1baa215a925d"
   },
   "outputs": [
    {
     "name": "stdout",
     "output_type": "stream",
     "text": [
      "Here is the mean: 10.431477864583334\n",
      "Here is the mode: 9.5\n",
      "Here is the spread: 1.1463727764912461\n",
      "Here is the left tail: 8.4\n",
      "Here is the right tail: 14.9\n"
     ]
    }
   ],
   "source": [
    "print_descriptive_statistics(high_quality.alcohol)"
   ]
  },
  {
   "cell_type": "code",
   "execution_count": null,
   "metadata": {
    "id": "tunsjD0EQUJl"
   },
   "outputs": [],
   "source": []
  },
  {
   "cell_type": "code",
   "execution_count": null,
   "metadata": {
    "colab": {
     "base_uri": "https://localhost:8080/",
     "height": 295
    },
    "id": "SpCylhJLVrF3",
    "outputId": "6453e7cd-4bac-4460-c234-b3b4bfa12df1"
   },
   "outputs": [
    {
     "data": {
      "image/png": "[encoded data removed]",
      "text/plain": [
       "<Figure size 432x288 with 1 Axes>"
      ]
     },
     "metadata": {},
     "output_type": "display_data"
    }
   ],
   "source": [
    "import pandas as pd\n",
    "import seaborn as sns\n",
    "import matplotlib.pyplot as plt\n",
    "\n",
    "# Compute probability density of 'alcohol' in low_quality and high_quality\n",
    "low_density = low_quality['alcohol'].value_counts(normalize=True).sort_index()\n",
    "high_density = high_quality['alcohol'].value_counts(normalize=True).sort_index()\n",
    "\n",
    "# Combine the two dataframes into a single dataframe\n",
    "density_df = pd.concat([low_density, high_density], axis=1, keys=['low', 'high']).reset_index()\n",
    "density_df.columns = ['alcohol', 'low_density', 'high_density']\n",
    "\n",
    "# Melt the dataframe to convert the density columns to a single 'density' column\n",
    "density_df = pd.melt(density_df, id_vars=['alcohol'], var_name='quality', value_name='density')\n",
    "\n",
    "# Plot the PMFs using Seaborn's lineplot function\n",
    "sns.lineplot(data=density_df, x='alcohol', y='density', hue='quality')\n",
    "\n",
    "# Add labels and title to the plot\n",
    "plt.xlabel('Alcohol')\n",
    "plt.ylabel('PMF')\n",
    "plt.title('PMFs of Alcohol between Low and High Quality')\n",
    "\n",
    "# Display the plot\n",
    "plt.show()"
   ]
  },
  {
   "cell_type": "code",
   "execution_count": null,
   "metadata": {
    "colab": {
     "base_uri": "https://localhost:8080/",
     "height": 295
    },
    "id": "52ih3V0nUgBQ",
    "outputId": "7e148564-b454-4833-e7b0-22dd9f8789c4"
   },
   "outputs": [
    {
     "data": {
      "image/png": "[encoded data removed]",
      "text/plain": [
       "<Figure size 432x288 with 1 Axes>"
      ]
     },
     "metadata": {},
     "output_type": "display_data"
    }
   ],
   "source": [
    "# Compute probability density of 'alcohol' in low_quality and high_quality\n",
    "low_density = low_quality['alcohol'].value_counts(normalize=True).sort_index()\n",
    "high_density = high_quality['alcohol'].value_counts(normalize=True).sort_index()\n",
    "\n",
    "# Compute the difference in probability density\n",
    "diff_density = high_density - low_density\n",
    "\n",
    "# Plot the difference in PMFs using sns.lineplot\n",
    "sns.lineplot(x=diff_density.index, y=diff_density.values)\n",
    "\n",
    "# Add labels and title to the plot\n",
    "plt.xlabel('Alcohol')\n",
    "plt.ylabel('Difference in PMFs')\n",
    "plt.title('Difference in PMFs of Alcohol between Low and High Quality')\n",
    "\n",
    "# Add a horizontal line at y=0\n",
    "plt.axhline(y=0, color='black', linestyle='--')\n",
    "\n",
    "# Display the plot\n",
    "plt.show()\n"
   ]
  },
  {
   "cell_type": "markdown",
   "metadata": {
    "id": "ivlfTHdZT7NC"
   },
   "source": [
    "## Create CDF of a variable"
   ]
  },
  {
   "cell_type": "code",
   "execution_count": null,
   "metadata": {
    "colab": {
     "base_uri": "https://localhost:8080/",
     "height": 295
    },
    "id": "qwN8ldb2QzI3",
    "outputId": "30540ef4-ad38-4099-f870-6b4214e056e3"
   },
   "outputs": [
    {
     "data": {
      "image/png": "[encoded data removed]",
      "text/plain": [
       "<Figure size 432x288 with 1 Axes>"
      ]
     },
     "metadata": {},
     "output_type": "display_data"
    }
   ],
   "source": [
    "import seaborn as sns\n",
    "import matplotlib.pyplot as plt\n",
    "\n",
    "# Create a CDF plot of the 'pH' column\n",
    "sns.ecdfplot(data=wine_quality, x='pH')\n",
    "\n",
    "# Add labels and title to the plot\n",
    "plt.xlabel('pH')\n",
    "plt.ylabel('CDF')\n",
    "plt.title('Cumulative Distribution of pH')\n",
    "\n",
    "# Display the plot\n",
    "plt.show()\n"
   ]
  },
  {
   "cell_type": "markdown",
   "metadata": {
    "id": "EU8eS5DFYVYy"
   },
   "source": [
    "## Create analytical plot"
   ]
  },
  {
   "cell_type": "markdown",
   "metadata": {
    "id": "379L_dNoYYHU"
   },
   "source": [
    "Compare a CDF of pH to normal distribution"
   ]
  },
  {
   "cell_type": "code",
   "execution_count": null,
   "metadata": {
    "colab": {
     "base_uri": "https://localhost:8080/",
     "height": 295
    },
    "id": "GPe7cPeoYbFg",
    "outputId": "8cbb1c85-de24-4b1d-b13e-dd0712b91e82"
   },
   "outputs": [
    {
     "data": {
      "image/png": "[encoded data removed]",
      "text/plain": [
       "<Figure size 432x288 with 1 Axes>"
      ]
     },
     "metadata": {},
     "output_type": "display_data"
    }
   ],
   "source": [
    "import numpy as np\n",
    "import scipy.stats as stats\n",
    "\n",
    "# Calculate the mean and variance of the 'pH' column\n",
    "mean = wine_quality['pH'].mean()\n",
    "variance = wine_quality['pH'].var()\n",
    "\n",
    "# Create a normal distribution with the same mean and variance as the 'pH' column\n",
    "normal_dist = stats.norm(loc=mean, scale=np.sqrt(variance))\n",
    "\n",
    "# Create the plot\n",
    "fig, ax = plt.subplots()\n",
    "sns.ecdfplot(data=wine_quality, x='pH', ax=ax, label='data')\n",
    "sns.lineplot(x=np.sort(wine_quality['pH']), y=normal_dist.cdf(np.sort(wine_quality['pH'])), ax=ax, label='model')\n",
    "\n",
    "# Add labels and title to the plot\n",
    "plt.xlabel('pH')\n",
    "plt.ylabel('CDF')\n",
    "plt.title('Comparison between CDF of pH to CDF of Normal Distribution')\n",
    "\n",
    "# Add a legend\n",
    "ax.legend()\n",
    "\n",
    "# Display the plot\n",
    "plt.show()\n"
   ]
  },
  {
   "cell_type": "markdown",
   "metadata": {
    "id": "fj7gooVTYb_G"
   },
   "source": [
    "# Create scatterplot of two variables\n",
    "\n",
    "pH and wine quality"
   ]
  },
  {
   "cell_type": "code",
   "execution_count": null,
   "metadata": {
    "colab": {
     "base_uri": "https://localhost:8080/",
     "height": 279
    },
    "id": "EfhRilQ9dVyo",
    "outputId": "3754bd4c-bb7e-4f4c-890d-8af32fbaed39"
   },
   "outputs": [
    {
     "data": {
      "image/png": "[encoded data removed]",
      "text/plain": [
       "<Figure size 432x288 with 1 Axes>"
      ]
     },
     "metadata": {},
     "output_type": "display_data"
    }
   ],
   "source": [
    "# create scatterplot between pH and wine_quality\n",
    "\n",
    "sns.scatterplot(data=wine_quality, x='pH', y='quality');"
   ]
  },
  {
   "cell_type": "code",
   "execution_count": null,
   "metadata": {
    "id": "jl2VSf3xdmlP"
   },
   "outputs": [],
   "source": [
    "def Cov(xs, ys, meanx=None, meany=None):\n",
    "    xs = np.asarray(xs)\n",
    "    ys = np.asarray(ys)\n",
    "\n",
    "    if meanx is None:\n",
    "        meanx = np.mean(xs)\n",
    "    if meany is None:\n",
    "        meany = np.mean(ys)\n",
    "\n",
    "    cov = np.dot(xs-meanx, ys-meany) / len(xs)\n",
    "    return cov\n",
    "\n",
    "def Corr(xs, ys):\n",
    "    xs = np.asarray(xs)\n",
    "    ys = np.asarray(ys)\n",
    "\n",
    "    meanx, varx = thinkstats2.MeanVar(xs)\n",
    "    meany, vary = thinkstats2.MeanVar(ys)\n",
    "\n",
    "    corr = Cov(xs, ys, meanx, meany) / np.sqrt(varx * vary)\n",
    "    return corr\n",
    "\n",
    "def SpearmanCorr(xs, ys):\n",
    "    xranks = pd.Series(xs).rank()\n",
    "    yranks = pd.Series(ys).rank()\n",
    "    # return Corr(xranks, yranks)\n",
    "    return np.corrcoef(xranks, yranks)[0,1]"
   ]
  },
  {
   "cell_type": "markdown",
   "metadata": {
    "id": "45_fywCsehzD"
   },
   "source": [
    "Covariance"
   ]
  },
  {
   "cell_type": "code",
   "execution_count": null,
   "metadata": {
    "colab": {
     "base_uri": "https://localhost:8080/"
    },
    "id": "dawtSFNvd668",
    "outputId": "09328751-f90c-4912-87eb-24932c6f033b"
   },
   "outputs": [
    {
     "data": {
      "text/plain": [
       "-0.007193320872449591"
      ]
     },
     "execution_count": 96,
     "metadata": {},
     "output_type": "execute_result"
    }
   ],
   "source": [
    "pH = wine_quality['pH']\n",
    "quality = wine_quality['quality']\n",
    "Cov(pH, quality)"
   ]
  },
  {
   "cell_type": "markdown",
   "metadata": {
    "id": "1hEzfaIQejHZ"
   },
   "source": [
    "Pearson Correlation"
   ]
  },
  {
   "cell_type": "code",
   "execution_count": null,
   "metadata": {
    "colab": {
     "base_uri": "https://localhost:8080/"
    },
    "id": "FGQfpNRjeCKi",
    "outputId": "9f869dce-6473-4c41-aeb0-153d66db9267"
   },
   "outputs": [
    {
     "data": {
      "text/plain": [
       "-0.05773139120538215"
      ]
     },
     "execution_count": 102,
     "metadata": {},
     "output_type": "execute_result"
    }
   ],
   "source": [
    "np.corrcoef(pH, quality)[0,1]"
   ]
  },
  {
   "cell_type": "markdown",
   "metadata": {
    "id": "X1LZejaEekUQ"
   },
   "source": [
    "Spearman Correlation"
   ]
  },
  {
   "cell_type": "code",
   "execution_count": null,
   "metadata": {
    "colab": {
     "base_uri": "https://localhost:8080/"
    },
    "id": "0uUaMLW1eKNa",
    "outputId": "ae3ee3f7-6e1e-4967-d25b-a3fcb0a7a33e"
   },
   "outputs": [
    {
     "data": {
      "text/plain": [
       "-0.043671934788928383"
      ]
     },
     "execution_count": 105,
     "metadata": {},
     "output_type": "execute_result"
    }
   ],
   "source": [
    "SpearmanCorr(pH, quality)"
   ]
  },
  {
   "cell_type": "markdown",
   "metadata": {
    "id": "OQ1fo1cXe7ba"
   },
   "source": [
    "The difference between them suggests a non-linear relationship."
   ]
  },
  {
   "cell_type": "markdown",
   "metadata": {
    "id": "OqzVButFYcfk"
   },
   "source": [
    "# Hypothesis Testing"
   ]
  },
  {
   "cell_type": "markdown",
   "metadata": {
    "id": "tBu01egdoa6o"
   },
   "source": [
    "Test for whether low quality or high quality wines are affected by alcohol content"
   ]
  },
  {
   "cell_type": "code",
   "execution_count": null,
   "metadata": {
    "colab": {
     "base_uri": "https://localhost:8080/"
    },
    "id": "tpgp0A5PnBF0",
    "outputId": "1e715b83-dbc8-4404-a491-d0d401d1f963"
   },
   "outputs": [
    {
     "name": "stdout",
     "output_type": "stream",
     "text": [
      "Downloaded thinkstats2.py\n",
      "Downloaded thinkplot.py\n"
     ]
    }
   ],
   "source": [
    "from os.path import basename, exists\n",
    "\n",
    "\n",
    "def download(url):\n",
    "    filename = basename(url)\n",
    "    if not exists(filename):\n",
    "        from urllib.request import urlretrieve\n",
    "\n",
    "        local, _ = urlretrieve(url, filename)\n",
    "        print(\"Downloaded \" + local)\n",
    "\n",
    "\n",
    "download(\"https://github.com/AllenDowney/ThinkStats2/raw/master/code/thinkstats2.py\")\n",
    "download(\"https://github.com/AllenDowney/ThinkStats2/raw/master/code/thinkplot.py\")"
   ]
  },
  {
   "cell_type": "code",
   "execution_count": null,
   "metadata": {
    "id": "WcPUwskXnD3i"
   },
   "outputs": [],
   "source": [
    "import numpy as np\n",
    "import random\n",
    "import thinkstats2\n",
    "import thinkplot"
   ]
  },
  {
   "cell_type": "code",
   "execution_count": null,
   "metadata": {
    "id": "rhCkufxOnE6a"
   },
   "outputs": [],
   "source": [
    "class HypothesisTest(object):\n",
    "\n",
    "    def __init__(self, data):\n",
    "        self.data = data\n",
    "        self.MakeModel()\n",
    "        self.actual = self.TestStatistic(data)\n",
    "\n",
    "    def PValue(self, iters=1000):\n",
    "        self.test_stats = [self.TestStatistic(self.RunModel()) \n",
    "                           for _ in range(iters)]\n",
    "\n",
    "        count = sum(1 for x in self.test_stats if x >= self.actual)\n",
    "        return count / iters\n",
    "\n",
    "    def TestStatistic(self, data):\n",
    "        raise UnimplementedMethodException()\n",
    "\n",
    "    def MakeModel(self):\n",
    "        pass\n",
    "\n",
    "    def RunModel(self):\n",
    "        raise UnimplementedMethodException()"
   ]
  },
  {
   "cell_type": "markdown",
   "metadata": {
    "id": "gO9fciMJHxFV"
   },
   "source": [
    "Compute p-value of an observed difference in means (permutation test)"
   ]
  },
  {
   "cell_type": "code",
   "execution_count": null,
   "metadata": {
    "id": "_OLEISvcnHYo"
   },
   "outputs": [],
   "source": [
    "class DiffMeansPermute(thinkstats2.HypothesisTest):\n",
    "\n",
    "    def TestStatistic(self, data):\n",
    "        group1, group2 = data\n",
    "        test_stat = abs(group1.mean() - group2.mean())\n",
    "        return test_stat\n",
    "\n",
    "    def MakeModel(self):\n",
    "        group1, group2 = self.data\n",
    "        self.n, self.m = len(group1), len(group2)\n",
    "        self.pool = np.hstack((group1, group2))\n",
    "\n",
    "    def RunModel(self):\n",
    "        np.random.shuffle(self.pool)\n",
    "        data = self.pool[:self.n], self.pool[self.n:]\n",
    "        return data"
   ]
  },
  {
   "cell_type": "code",
   "execution_count": null,
   "metadata": {
    "colab": {
     "base_uri": "https://localhost:8080/"
    },
    "id": "JgtLCtT9nOqm",
    "outputId": "46143b36-2051-40ce-e8a5-f27a64204a4b"
   },
   "outputs": [
    {
     "name": "stdout",
     "output_type": "stream",
     "text": [
      "Downloaded nsfg.py\n",
      "Downloaded first.py\n",
      "Downloaded 2002FemPreg.dct\n",
      "Downloaded 2002FemPreg.dat.gz\n"
     ]
    }
   ],
   "source": [
    "download(\"https://github.com/AllenDowney/ThinkStats2/raw/master/code/nsfg.py\")\n",
    "download(\"https://github.com/AllenDowney/ThinkStats2/raw/master/code/first.py\")\n",
    "download(\"https://github.com/AllenDowney/ThinkStats2/raw/master/code/2002FemPreg.dct\")\n",
    "download(\"https://github.com/AllenDowney/ThinkStats2/raw/master/code/2002FemPreg.dat.gz\")"
   ]
  },
  {
   "cell_type": "code",
   "execution_count": null,
   "metadata": {
    "id": "NxWhI9lynl6h"
   },
   "outputs": [],
   "source": [
    "data = low_quality.alcohol.values, high_quality.alcohol.values"
   ]
  },
  {
   "cell_type": "code",
   "execution_count": null,
   "metadata": {
    "colab": {
     "base_uri": "https://localhost:8080/"
    },
    "id": "rGzQl3d2nWUR",
    "outputId": "3b192868-7f24-4d7e-aeab-ba269c879dc4"
   },
   "outputs": [
    {
     "data": {
      "text/plain": [
       "0.12"
      ]
     },
     "execution_count": 206,
     "metadata": {},
     "output_type": "execute_result"
    }
   ],
   "source": [
    "ht = DiffMeansPermute(data)\n",
    "pvalue = ht.PValue()\n",
    "pvalue"
   ]
  },
  {
   "cell_type": "markdown",
   "metadata": {
    "id": "LsUwC6RcIB3T"
   },
   "source": [
    "Here's the distrubution of the test statistic (the difference in means) over many simulated samples:"
   ]
  },
  {
   "cell_type": "code",
   "execution_count": null,
   "metadata": {
    "colab": {
     "base_uri": "https://localhost:8080/",
     "height": 279
    },
    "id": "94gfv9jrnXPH",
    "outputId": "448c6d60-d98a-4bc0-db66-0f44dc63e9fd"
   },
   "outputs": [
    {
     "data": {
      "image/png": "[encoded data removed]",
      "text/plain": [
       "<Figure size 432x288 with 1 Axes>"
      ]
     },
     "metadata": {},
     "output_type": "display_data"
    }
   ],
   "source": [
    "ht.PlotCdf()\n",
    "thinkplot.Config(xlabel='test statistic',\n",
    "                   ylabel='CDF')"
   ]
  },
  {
   "cell_type": "code",
   "execution_count": null,
   "metadata": {
    "id": "ufrZ0TMMn0I3"
   },
   "outputs": [],
   "source": [
    "class DiffMeansOneSided(DiffMeansPermute):\n",
    "\n",
    "    def TestStatistic(self, data):\n",
    "        group1, group2 = data\n",
    "        test_stat = group1.mean() - group2.mean()\n",
    "        return test_stat"
   ]
  },
  {
   "cell_type": "code",
   "execution_count": null,
   "metadata": {
    "colab": {
     "base_uri": "https://localhost:8080/"
    },
    "id": "LdFWCrGWn5oQ",
    "outputId": "c49e39e8-0256-4069-95f9-526b83559390"
   },
   "outputs": [
    {
     "data": {
      "text/plain": [
       "0.94"
      ]
     },
     "execution_count": 135,
     "metadata": {},
     "output_type": "execute_result"
    }
   ],
   "source": [
    "ht = DiffMeansOneSided(data)\n",
    "pvalue = ht.PValue()\n",
    "pvalue"
   ]
  },
  {
   "cell_type": "markdown",
   "metadata": {
    "id": "Q1P-Om1jlkdL"
   },
   "source": [
    "# Regression **Analysis**"
   ]
  },
  {
   "cell_type": "markdown",
   "metadata": {
    "id": "GHrTADd993iu"
   },
   "source": [
    "Regression between dependent variable (fixed_acidity) and explanatory variable (quality)"
   ]
  },
  {
   "cell_type": "code",
   "execution_count": null,
   "metadata": {
    "id": "9dLpIKim-j6m"
   },
   "outputs": [],
   "source": [
    "fixed_acidity = wine_quality['fixed acidity']\n",
    "quality = wine_quality['quality']"
   ]
  },
  {
   "cell_type": "markdown",
   "metadata": {
    "id": "RQJ11b4h-RUH"
   },
   "source": [
    "The following function computes the intercept and slope of the least squares fit."
   ]
  },
  {
   "cell_type": "code",
   "execution_count": null,
   "metadata": {
    "id": "840hHgxDoxxm"
   },
   "outputs": [],
   "source": [
    "from thinkstats2 import Mean, MeanVar, Var, Std, Cov\n",
    "\n",
    "def LeastSquares(xs, ys):\n",
    "    meanx, varx = MeanVar(xs)\n",
    "    meany = Mean(ys)\n",
    "\n",
    "    slope = Cov(xs, ys, meanx, meany) / varx\n",
    "    inter = meany - slope * meanx\n",
    "\n",
    "    return inter, slope"
   ]
  },
  {
   "cell_type": "markdown",
   "metadata": {
    "id": "NoqPJQx3-ayu"
   },
   "source": [
    "Here's the least squares fit to wine quality as a function of fixed_acidity."
   ]
  },
  {
   "cell_type": "code",
   "execution_count": null,
   "metadata": {
    "colab": {
     "base_uri": "https://localhost:8080/"
    },
    "id": "x1nJIV_P92OS",
    "outputId": "802044ab-104a-4fa0-cc15-088ede8301cf"
   },
   "outputs": [
    {
     "data": {
      "text/plain": [
       "(5.157321868924812, 0.057538643743881186)"
      ]
     },
     "execution_count": 160,
     "metadata": {},
     "output_type": "execute_result"
    }
   ],
   "source": [
    "inter, slope = LeastSquares(fixed_acidity, quality)\n",
    "inter, slope"
   ]
  },
  {
   "cell_type": "code",
   "execution_count": null,
   "metadata": {
    "id": "o0wsQkUJ92KI"
   },
   "outputs": [],
   "source": [
    "def FitLine(xs, inter, slope):\n",
    "    fit_xs = np.sort(xs)\n",
    "    fit_ys = inter + slope * fit_xs\n",
    "    return fit_xs, fit_ys"
   ]
  },
  {
   "cell_type": "code",
   "execution_count": null,
   "metadata": {
    "id": "Wcplu-JT92Gr"
   },
   "outputs": [],
   "source": [
    "fit_xs, fit_ys = FitLine(fixed_acidity, inter, slope)"
   ]
  },
  {
   "cell_type": "markdown",
   "metadata": {
    "id": "SAIKjqFZ_Y7Z"
   },
   "source": [
    "Scatterplot with fitted line"
   ]
  },
  {
   "cell_type": "code",
   "execution_count": null,
   "metadata": {
    "colab": {
     "base_uri": "https://localhost:8080/",
     "height": 279
    },
    "id": "VQdNtd8W92Dl",
    "outputId": "be372b25-37b3-4eb3-e8d3-224b182f898d"
   },
   "outputs": [
    {
     "data": {
      "image/png": "[encoded data removed]",
      "text/plain": [
       "<Figure size 432x288 with 1 Axes>"
      ]
     },
     "metadata": {},
     "output_type": "display_data"
    }
   ],
   "source": [
    "thinkplot.Scatter(fixed_acidity, quality, color='blue', alpha=0.1, s=10)\n",
    "thinkplot.Plot(fit_xs, fit_ys, color='white', linewidth=3)\n",
    "thinkplot.Plot(fit_xs, fit_ys, color='red', linewidth=2)\n",
    "thinkplot.Config(xlabel=\"fixed acidity\",\n",
    "                 ylabel='wine quality',\n",
    "                #  axis=[10, 45, 0, 15],\n",
    "                 legend=False)"
   ]
  },
  {
   "cell_type": "markdown",
   "metadata": {
    "id": "7ZnilbJ__yd-"
   },
   "source": [
    "Residuals"
   ]
  },
  {
   "cell_type": "code",
   "execution_count": null,
   "metadata": {
    "id": "Fzci1NLM917d"
   },
   "outputs": [],
   "source": [
    "def Residuals(xs, ys, inter, slope):\n",
    "    xs = np.asarray(xs)\n",
    "    ys = np.asarray(ys)\n",
    "    res = ys - (inter + slope * xs)\n",
    "    return res"
   ]
  },
  {
   "cell_type": "code",
   "execution_count": null,
   "metadata": {
    "id": "i2JmWRl191pN"
   },
   "outputs": [],
   "source": [
    "wine_quality['residual'] = Residuals(fixed_acidity, quality, inter, slope)"
   ]
  },
  {
   "cell_type": "code",
   "execution_count": null,
   "metadata": {
    "colab": {
     "base_uri": "https://localhost:8080/"
    },
    "id": "51MgtDcUAA3a",
    "outputId": "b21dc675-6f5c-4ac1-f7ea-af44097bf442"
   },
   "outputs": [
    {
     "data": {
      "text/plain": [
       "15.9"
      ]
     },
     "execution_count": 168,
     "metadata": {},
     "output_type": "execute_result"
    }
   ],
   "source": [
    "max(fixed_acidity)"
   ]
  },
  {
   "cell_type": "code",
   "execution_count": null,
   "metadata": {
    "colab": {
     "base_uri": "https://localhost:8080/"
    },
    "id": "QfVow4OO_6El",
    "outputId": "3bab8e6b-68ff-49b9-cb1b-520e80c2bd77"
   },
   "outputs": [
    {
     "data": {
      "text/plain": [
       "[7.138654353562006, 8.794477317554241, 10.76238095238095, 12.650877192982456]"
      ]
     },
     "execution_count": 171,
     "metadata": {},
     "output_type": "execute_result"
    }
   ],
   "source": [
    "bins = np.arange(4, 16, 2)\n",
    "indices = np.digitize(fixed_acidity, bins)\n",
    "groups = wine_quality.groupby(indices)\n",
    "\n",
    "fixed_acidity_means = [group[\"fixed acidity\"].mean() for _, group in groups][1:-1]\n",
    "fixed_acidity_means"
   ]
  },
  {
   "cell_type": "code",
   "execution_count": null,
   "metadata": {
    "id": "mPKxkhlFAleE"
   },
   "outputs": [],
   "source": [
    "cdfs = [thinkstats2.Cdf(group.residual) for _, group in groups][1:-1]"
   ]
  },
  {
   "cell_type": "code",
   "execution_count": null,
   "metadata": {
    "id": "c0ZPvU2ZAlaT"
   },
   "outputs": [],
   "source": [
    "def PlotPercentiles(age_means, cdfs):\n",
    "    thinkplot.PrePlot(3)\n",
    "    for percent in [75, 50, 25]:\n",
    "        weight_percentiles = [cdf.Percentile(percent) for cdf in cdfs]\n",
    "        label = '%dth' % percent\n",
    "        thinkplot.Plot(age_means, weight_percentiles, label=label)"
   ]
  },
  {
   "cell_type": "markdown",
   "metadata": {
    "id": "2Gd_9AOZAy69"
   },
   "source": [
    "The following figure shows the 25th, 50th, and 75th percentiles.\n",
    "\n",
    "Curvature in the residuals suggests a non-linear relationship."
   ]
  },
  {
   "cell_type": "code",
   "execution_count": null,
   "metadata": {
    "colab": {
     "base_uri": "https://localhost:8080/",
     "height": 279
    },
    "id": "STL4wBy0AlTX",
    "outputId": "30b9add4-3012-4722-a711-44b46d1e4e7b"
   },
   "outputs": [
    {
     "data": {
      "image/png": "[encoded data removed]",
      "text/plain": [
       "<Figure size 432x288 with 1 Axes>"
      ]
     },
     "metadata": {},
     "output_type": "display_data"
    }
   ],
   "source": [
    "PlotPercentiles(fixed_acidity_means, cdfs)\n",
    "\n",
    "thinkplot.Config(xlabel=\"fixed acidity\",\n",
    "                 ylabel='Residual',\n",
    "                #  xlim=[10, 45],\n",
    "                 )"
   ]
  },
  {
   "cell_type": "markdown",
   "metadata": {
    "id": "gNmb0fhcA7Xj"
   },
   "source": [
    "Sampling distribution"
   ]
  },
  {
   "cell_type": "code",
   "execution_count": null,
   "metadata": {
    "id": "KJbP6aB2AlG8"
   },
   "outputs": [],
   "source": [
    "def SampleRows(df, nrows, replace=False):\n",
    "    indices = np.random.choice(df.index, nrows, replace=replace)\n",
    "    sample = df.loc[indices]\n",
    "    return sample\n",
    "\n",
    "def ResampleRows(df):\n",
    "    return SampleRows(df, len(df), replace=True)"
   ]
  },
  {
   "cell_type": "code",
   "execution_count": null,
   "metadata": {
    "id": "sxiT3JcGA-ie"
   },
   "outputs": [],
   "source": [
    "def SamplingDistributions(live, iters=101):\n",
    "    t = []\n",
    "    for _ in range(iters):\n",
    "        sample = ResampleRows(live)\n",
    "        fixed_acidity = sample['fixed acidity']\n",
    "        quality = sample['quality']\n",
    "        estimates = LeastSquares(fixed_acidity, quality)\n",
    "        t.append(estimates)\n",
    "\n",
    "    inters, slopes = zip(*t)\n",
    "    return inters, slopes"
   ]
  },
  {
   "cell_type": "code",
   "execution_count": null,
   "metadata": {
    "id": "Un5CNSAEA9AO"
   },
   "outputs": [],
   "source": [
    "inters, slopes = SamplingDistributions(wine_quality, iters=1001)"
   ]
  },
  {
   "cell_type": "markdown",
   "metadata": {
    "id": "Dcmc30cKBTqe"
   },
   "source": [
    "The following function takes a list of estimates and prints the mean, standard error, and 90% confidence interval."
   ]
  },
  {
   "cell_type": "code",
   "execution_count": null,
   "metadata": {
    "id": "hLq2WXi7BUWT"
   },
   "outputs": [],
   "source": [
    "def Summarize(estimates, actual=None):\n",
    "    mean = Mean(estimates)\n",
    "    stderr = Std(estimates, mu=actual)\n",
    "    cdf = thinkstats2.Cdf(estimates)\n",
    "    ci = cdf.ConfidenceInterval(90)\n",
    "    print('mean, SE, CI', mean, stderr, ci)"
   ]
  },
  {
   "cell_type": "code",
   "execution_count": null,
   "metadata": {
    "colab": {
     "base_uri": "https://localhost:8080/"
    },
    "id": "l5w5vcOVBWhA",
    "outputId": "776c1f00-5475-4fe0-9e3b-eedb01cb6fe8"
   },
   "outputs": [
    {
     "name": "stdout",
     "output_type": "stream",
     "text": [
      "mean, SE, CI 5.162949794239317 0.10137024880083251 (4.997705204656171, 5.329442797084013)\n"
     ]
    }
   ],
   "source": [
    "Summarize(inters)"
   ]
  },
  {
   "cell_type": "markdown",
   "metadata": {
    "id": "ABJwhKOxBa6O"
   },
   "source": [
    "Here is the summary for slope"
   ]
  },
  {
   "cell_type": "code",
   "execution_count": null,
   "metadata": {
    "colab": {
     "base_uri": "https://localhost:8080/"
    },
    "id": "raBaaydJBcTm",
    "outputId": "10e2e8f5-5e3a-46f4-a84e-8be5e71be6e9"
   },
   "outputs": [
    {
     "name": "stdout",
     "output_type": "stream",
     "text": [
      "mean, SE, CI 0.05675914982325422 0.012035763872048678 (0.03776807425927151, 0.076482546140188)\n"
     ]
    }
   ],
   "source": [
    "Summarize(slopes)"
   ]
  },
  {
   "cell_type": "markdown",
   "metadata": {
    "id": "DnLirMHzBmtW"
   },
   "source": [
    "Visualizing uncertainty"
   ]
  },
  {
   "cell_type": "code",
   "execution_count": null,
   "metadata": {
    "colab": {
     "base_uri": "https://localhost:8080/",
     "height": 279
    },
    "id": "-3w7v3PVBe_r",
    "outputId": "0474584d-e40d-4366-8b04-3800d48bd7dd",
    "scrolled": true
   },
   "outputs": [
    {
     "data": {
      "image/png": "[encoded data removed]",
      "text/plain": [
       "<Figure size 432x288 with 1 Axes>"
      ]
     },
     "metadata": {},
     "output_type": "display_data"
    }
   ],
   "source": [
    "for slope, inter in zip(slopes, inters):\n",
    "    fxs, fys = FitLine(fixed_acidity_means, inter, slope)\n",
    "    thinkplot.Plot(fxs, fys, color='gray', alpha=0.01)\n",
    "    \n",
    "thinkplot.Config(xlabel=\"fixed acidity\",\n",
    "                 ylabel='Residual',\n",
    "                #  xlim=[10, 45],\n",
    "                 )"
   ]
  },
  {
   "cell_type": "markdown",
   "metadata": {
    "id": "3U7eglWpCWcZ"
   },
   "source": []
  },
  {
   "cell_type": "code",
   "execution_count": null,
   "metadata": {
    "id": "pr3G0Ew1CYhp"
   },
   "outputs": [],
   "source": [
    "def PlotConfidenceIntervals(xs, inters, slopes, percent=90, **options):\n",
    "    fys_seq = []\n",
    "    for inter, slope in zip(inters, slopes):\n",
    "        fxs, fys = FitLine(xs, inter, slope)\n",
    "        fys_seq.append(fys)\n",
    "\n",
    "    p = (100 - percent) / 2\n",
    "    percents = p, 100 - p\n",
    "    low, high = thinkstats2.PercentileRows(fys_seq, percents)\n",
    "    thinkplot.FillBetween(fxs, low, high, **options)"
   ]
  },
  {
   "cell_type": "code",
   "execution_count": null,
   "metadata": {
    "colab": {
     "base_uri": "https://localhost:8080/",
     "height": 279
    },
    "id": "_rbrqLbPCcjq",
    "outputId": "1dde3a29-e57c-4b4c-c405-e6dacad5f126"
   },
   "outputs": [
    {
     "data": {
      "image/png": "[encoded data removed]",
      "text/plain": [
       "<Figure size 432x288 with 1 Axes>"
      ]
     },
     "metadata": {},
     "output_type": "display_data"
    }
   ],
   "source": [
    "PlotConfidenceIntervals(fixed_acidity_means, inters, slopes, percent=90, \n",
    "                        color='gray', alpha=0.3, label='90% CI')\n",
    "PlotConfidenceIntervals(fixed_acidity_means, inters, slopes, percent=50,\n",
    "                        color='gray', alpha=0.5, label='50% CI')\n",
    "\n",
    "thinkplot.Config(xlabel=\"fixed acidity\",\n",
    "                 ylabel='Residual',\n",
    "                #  xlim=[10, 45],\n",
    "                 )"
   ]
  },
  {
   "cell_type": "markdown",
   "metadata": {
    "id": "TKF1LC9nCoP6"
   },
   "source": [
    "Coefficient of determination"
   ]
  },
  {
   "cell_type": "markdown",
   "metadata": {
    "id": "N-3k5I7BCxOf"
   },
   "source": [
    "The coefficient compares the variance of the residuals to the variance of the dependent variable."
   ]
  },
  {
   "cell_type": "code",
   "execution_count": null,
   "metadata": {
    "id": "FHw1XRJyCp6J"
   },
   "outputs": [],
   "source": [
    "def CoefDetermination(ys, res):\n",
    "    return 1 - Var(res) / Var(ys)"
   ]
  },
  {
   "cell_type": "code",
   "execution_count": null,
   "metadata": {
    "colab": {
     "base_uri": "https://localhost:8080/"
    },
    "id": "X7Qu3DJ5Cyf7",
    "outputId": "090c1972-5852-4797-9f86-7f4d2f7c2db1"
   },
   "outputs": [
    {
     "data": {
      "text/plain": [
       "0.015388811647711664"
      ]
     },
     "execution_count": 190,
     "metadata": {},
     "output_type": "execute_result"
    }
   ],
   "source": [
    "inter, slope = LeastSquares(fixed_acidity, quality)\n",
    "res = Residuals(fixed_acidity, quality, inter, slope)\n",
    "r2 = CoefDetermination(quality, res)\n",
    "r2"
   ]
  },
  {
   "cell_type": "markdown",
   "metadata": {
    "id": "4BF6ZqaqC_Gv"
   },
   "source": [
    "R2  is very small, indicating that the fixed acidity predicts a small part of the variance in wine quality."
   ]
  },
  {
   "cell_type": "markdown",
   "metadata": {
    "id": "PyrwXkPWGA9f"
   },
   "source": [
    "Pearson correlation"
   ]
  },
  {
   "cell_type": "code",
   "execution_count": null,
   "metadata": {
    "colab": {
     "base_uri": "https://localhost:8080/"
    },
    "id": "uXg5992zGC3_",
    "outputId": "93737129-2538-467d-fe20-b821b18f459b"
   },
   "outputs": [
    {
     "data": {
      "text/plain": [
       "0.12405164911322424"
      ]
     },
     "execution_count": 204,
     "metadata": {},
     "output_type": "execute_result"
    }
   ],
   "source": [
    "rho = thinkstats2.Corr(fixed_acidity, quality)\n",
    "rho"
   ]
  },
  {
   "cell_type": "markdown",
   "metadata": {
    "id": "HgCAYzp2GHQk"
   },
   "source": [
    "Confirm that $R^2 = \\rho^2$."
   ]
  },
  {
   "cell_type": "code",
   "execution_count": null,
   "metadata": {
    "colab": {
     "base_uri": "https://localhost:8080/"
    },
    "id": "SzSwDSvIF91B",
    "outputId": "6566c99c-f163-4638-ec2a-b9421e8bddc5"
   },
   "outputs": [
    {
     "data": {
      "text/plain": [
       "True"
      ]
     },
     "execution_count": 205,
     "metadata": {},
     "output_type": "execute_result"
    }
   ],
   "source": [
    "np.isclose(rho**2, r2)"
   ]
  },
  {
   "cell_type": "markdown",
   "metadata": {
    "id": "9LVt5yxzDddm"
   },
   "source": [
    "To express predictive power, I compared the standard deviation of the residuals to the standard deviation of the dependent variable, as a measure RMSE if you try to guess wine quality with and without taking into account fixed acidity."
   ]
  },
  {
   "cell_type": "code",
   "execution_count": null,
   "metadata": {
    "colab": {
     "base_uri": "https://localhost:8080/"
    },
    "id": "G4ig0DQ2DI8h",
    "outputId": "221bf82f-3bd3-461e-ee51-90ee0a984ec2"
   },
   "outputs": [
    {
     "name": "stdout",
     "output_type": "stream",
     "text": [
      "Std(ys) 0.8073168769639517\n",
      "Std(res) 0.8010809694681061\n"
     ]
    }
   ],
   "source": [
    "print('Std(ys)', Std(quality))\n",
    "print('Std(res)', Std(res))"
   ]
  },
  {
   "cell_type": "code",
   "execution_count": null,
   "metadata": {
    "id": "Vq8i4AltEfAg"
   },
   "outputs": [],
   "source": []
  },
  {
   "cell_type": "markdown",
   "metadata": {
    "collapsed": true,
    "id": "jhUa0EeV-D98"
   },
   "source": [
    "## Hypothesis testing with slopes\n",
    "\n",
    "Here's a `HypothesisTest` that uses permutation to test whether the observed slope is statistically significant."
   ]
  },
  {
   "cell_type": "code",
   "execution_count": null,
   "metadata": {
    "id": "-Pj3mk5k-D98"
   },
   "outputs": [],
   "source": [
    "class SlopeTest(thinkstats2.HypothesisTest):\n",
    "\n",
    "    def TestStatistic(self, data):\n",
    "        ages, weights = data\n",
    "        _, slope = thinkstats2.LeastSquares(ages, weights)\n",
    "        return slope\n",
    "\n",
    "    def MakeModel(self):\n",
    "        _, weights = self.data\n",
    "        self.ybar = weights.mean()\n",
    "        self.res = weights - self.ybar\n",
    "\n",
    "    def RunModel(self):\n",
    "        ages, _ = self.data\n",
    "        weights = self.ybar + np.random.permutation(self.res)\n",
    "        return ages, weights"
   ]
  },
  {
   "cell_type": "markdown",
   "metadata": {
    "collapsed": true,
    "id": "H8fbcExE-D98"
   },
   "source": [
    "And it is."
   ]
  },
  {
   "cell_type": "code",
   "execution_count": null,
   "metadata": {
    "colab": {
     "base_uri": "https://localhost:8080/"
    },
    "id": "Nc2pgI9j-D98",
    "outputId": "f08a46c9-7d09-4f70-f241-6447a3b84529"
   },
   "outputs": [
    {
     "data": {
      "text/plain": [
       "0.0"
      ]
     },
     "execution_count": 193,
     "metadata": {},
     "output_type": "execute_result"
    }
   ],
   "source": [
    "ht = SlopeTest((fixed_acidity, quality))\n",
    "pvalue = ht.PValue()\n",
    "pvalue"
   ]
  },
  {
   "cell_type": "markdown",
   "metadata": {
    "collapsed": true,
    "id": "nZfrOxHM-D98"
   },
   "source": [
    "Under the null hypothesis, the largest slope we observe after 1000 tries is substantially less than the observed value."
   ]
  },
  {
   "cell_type": "code",
   "execution_count": null,
   "metadata": {
    "colab": {
     "base_uri": "https://localhost:8080/"
    },
    "id": "RZ-QVGXV-D99",
    "outputId": "d962f4cc-a94b-4c50-d408-de0721bb899d"
   },
   "outputs": [
    {
     "data": {
      "text/plain": [
       "(0.057538643743881186, 0.041953005832433825)"
      ]
     },
     "execution_count": 194,
     "metadata": {},
     "output_type": "execute_result"
    }
   ],
   "source": [
    "ht.actual, ht.MaxTestStat()"
   ]
  },
  {
   "cell_type": "markdown",
   "metadata": {
    "collapsed": true,
    "id": "xiJpa1ff-D99"
   },
   "source": [
    "We can also use resampling to estimate the sampling distribution of the slope."
   ]
  },
  {
   "cell_type": "code",
   "execution_count": null,
   "metadata": {
    "id": "TGYkqQeZ-D99"
   },
   "outputs": [],
   "source": [
    "sampling_cdf = thinkstats2.Cdf(slopes)"
   ]
  },
  {
   "cell_type": "code",
   "execution_count": null,
   "metadata": {
    "id": "mjwiXYH0Etqb"
   },
   "outputs": [],
   "source": []
  },
  {
   "cell_type": "markdown",
   "metadata": {
    "collapsed": true,
    "id": "bOs6t5RK-D99"
   },
   "source": [
    "The distribution of slopes under the null hypothesis, and the sampling distribution of the slope under resampling, have the same shape, but one has mean at 0 and the other has mean at the observed slope.\n",
    "\n",
    "To compute a p-value, we can count how often the estimated slope under the null hypothesis exceeds the observed slope, or how often the estimated slope under resampling falls below 0."
   ]
  },
  {
   "cell_type": "code",
   "execution_count": null,
   "metadata": {
    "colab": {
     "base_uri": "https://localhost:8080/",
     "height": 279
    },
    "id": "MgzBvPGq-D99",
    "outputId": "1e6b88ff-6cfd-4ce0-8f9c-aa9c0b2d419f"
   },
   "outputs": [
    {
     "data": {
      "image/png": "[encoded data removed]",
      "text/plain": [
       "<Figure size 432x288 with 1 Axes>"
      ]
     },
     "metadata": {},
     "output_type": "display_data"
    }
   ],
   "source": [
    "thinkplot.PrePlot(2)\n",
    "thinkplot.Plot([0, 0], [0, 1], color='0.8')\n",
    "ht.PlotCdf(label='null hypothesis')\n",
    "\n",
    "thinkplot.Cdf(sampling_cdf, label='sampling distribution')\n",
    "\n",
    "thinkplot.Config(xlabel='slope',\n",
    "                   ylabel='CDF',\n",
    "                  #  xlim=[-0.03, 0.03],\n",
    "                   legend=True, loc='upper left')"
   ]
  },
  {
   "cell_type": "markdown",
   "metadata": {
    "collapsed": true,
    "id": "kQcyC9Zp-D99"
   },
   "source": [
    "p-value from the sampling distribution"
   ]
  },
  {
   "cell_type": "code",
   "execution_count": null,
   "metadata": {
    "colab": {
     "base_uri": "https://localhost:8080/"
    },
    "id": "62Yo_BbK-D9-",
    "outputId": "65a4f193-59e4-41a5-a35e-aaadaa51b6f4"
   },
   "outputs": [
    {
     "data": {
      "text/plain": [
       "0"
      ]
     },
     "execution_count": 197,
     "metadata": {},
     "output_type": "execute_result"
    }
   ],
   "source": [
    "pvalue = sampling_cdf[0]\n",
    "pvalue"
   ]
  },
  {
   "cell_type": "markdown",
   "metadata": {
    "collapsed": true,
    "id": "misVMbfs-D9-"
   },
   "source": [
    "## Resampling with weights\n",
    "\n",
    "Resampling provides a convenient way to take into account the sampling weights associated with respondents in a stratified survey design.\n",
    "\n",
    "The following function resamples rows with probabilities proportional to weights."
   ]
  },
  {
   "cell_type": "code",
   "execution_count": null,
   "metadata": {
    "id": "NPM6L-IG-D9-"
   },
   "outputs": [],
   "source": [
    "def ResampleRowsWeighted(df, column='finalwgt'):\n",
    "    weights = df[column]\n",
    "    cdf = thinkstats2.Cdf(dict(weights))\n",
    "    indices = cdf.Sample(len(weights))\n",
    "    sample = df.loc[indices]\n",
    "    return sample"
   ]
  },
  {
   "cell_type": "markdown",
   "metadata": {
    "id": "R1i9Hziw-D9-"
   },
   "source": [
    "estimate the mean wine quality and compute SE and CI."
   ]
  },
  {
   "cell_type": "code",
   "execution_count": null,
   "metadata": {
    "colab": {
     "base_uri": "https://localhost:8080/"
    },
    "id": "TeLPAz_h-D9-",
    "outputId": "53f5348b-e623-42f1-8a71-9ee58f95359f"
   },
   "outputs": [
    {
     "name": "stdout",
     "output_type": "stream",
     "text": [
      "mean, SE, CI 5.752026266416511 0.021228587914231024 (5.714196372732958, 5.788617886178862)\n"
     ]
    }
   ],
   "source": [
    "iters = 100\n",
    "estimates = [ResampleRowsWeighted(wine_quality, column='quality').quality.mean()\n",
    "             for _ in range(iters)]\n",
    "Summarize(estimates)"
   ]
  },
  {
   "cell_type": "markdown",
   "metadata": {
    "collapsed": true,
    "id": "mvs075Yb-D9-"
   },
   "source": [
    "And here's the same calculation if we ignore the weights"
   ]
  },
  {
   "cell_type": "code",
   "execution_count": null,
   "metadata": {
    "colab": {
     "base_uri": "https://localhost:8080/"
    },
    "id": "k3DpH-RF-D9-",
    "outputId": "2c761666-8452-49ea-e05f-b400ac932a20"
   },
   "outputs": [
    {
     "name": "stdout",
     "output_type": "stream",
     "text": [
      "mean, SE, CI 5.638223889931208 0.02121881822662022 (5.60100062539087, 5.6729205753595995)\n"
     ]
    }
   ],
   "source": [
    "estimates = [thinkstats2.ResampleRows(wine_quality).quality.mean()\n",
    "             for _ in range(iters)]\n",
    "Summarize(estimates)"
   ]
  },
  {
   "cell_type": "markdown",
   "metadata": {
    "collapsed": true,
    "id": "V0ulKsDU-D9-"
   },
   "source": [
    "The difference is non-negligible, which suggests that there are differences in wine quality between the strata in the survey."
   ]
  },
  {
   "cell_type": "code",
   "execution_count": null,
   "metadata": {
    "id": "YLadZ0C6WZTP"
   },
   "outputs": [],
   "source": []
  }
 ],
 "metadata": {
  "colab": {
   "provenance": []
  },
  "kernelspec": {
   "display_name": "Python 3 (ipykernel)",
   "language": "python",
   "name": "python3"
  },
  "language_info": {
   "codemirror_mode": {
    "name": "ipython",
    "version": 3
   },
   "file_extension": ".py",
   "mimetype": "text/x-python",
   "name": "python",
   "nbconvert_exporter": "python",
   "pygments_lexer": "ipython3",
   "version": "3.9.13"
  }
 },
 "nbformat": 4,
 "nbformat_minor": 1
}
